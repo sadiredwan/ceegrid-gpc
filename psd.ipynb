{
 "cells": [
  {
   "cell_type": "code",
   "execution_count": null,
   "metadata": {},
   "outputs": [],
   "source": [
    "import warnings\n",
    "warnings.filterwarnings(\"ignore\")\n",
    "import os\n",
    "import mne\n",
    "import numpy as np\n",
    "from tqdm import tqdm\n",
    "import pandas as pd\n",
    "mne.set_log_level(40)"
   ]
  },
  {
   "cell_type": "code",
   "execution_count": null,
   "metadata": {},
   "outputs": [],
   "source": [
    "df = pd.read_csv('data/participants.tsv', sep='\\t')\n",
    "labels = {'left': 0, 'right': 1}"
   ]
  },
  {
   "cell_type": "code",
   "execution_count": null,
   "metadata": {},
   "outputs": [],
   "source": [
    "def eeg_power_band(epochs):\n",
    "    FREQ_BANDS = {\n",
    "        'delta': [0.5, 4],\n",
    "        'theta': [4, 8],\n",
    "        'alpha': [8, 12],\n",
    "        'beta': [12, 30]\n",
    "    }\n",
    "    spectrum = epochs.compute_psd(picks='eeg', fmin=0.5, fmax=30.)\n",
    "    psds, freqs = spectrum.get_data(return_freqs=True)\n",
    "    psds /= np.sum(psds, axis=-1, keepdims=True)\n",
    "    X = []\n",
    "    for fmin, fmax in tqdm(FREQ_BANDS.values()):\n",
    "        psds_band = psds[:, :, (freqs >= fmin) & (freqs < fmax)].mean(axis=-1)\n",
    "        X.append(psds_band.reshape(len(psds), -1))\n",
    "    return np.concatenate(X, axis=1)"
   ]
  },
  {
   "cell_type": "code",
   "execution_count": 14,
   "metadata": {},
   "outputs": [
    {
     "name": "stderr",
     "output_type": "stream",
     "text": [
      "100%|██████████| 36/36 [00:05<00:00,  6.04it/s]\n"
     ]
    }
   ],
   "source": [
    "X, y = [], []\n",
    "for f in tqdm(os.listdir('data/epochs')):\n",
    "    epochs = mne.read_epochs('data/epochs/'+f, preload=True)[1:]\n",
    "    X.append(epochs)\n",
    "    for epoch in epochs:\n",
    "        y.append(labels[df[df['participant_id']==f.replace('.fif', '')]['attended_ch'].values[0]])\n",
    "y = np.array(y)"
   ]
  },
  {
   "cell_type": "code",
   "execution_count": 15,
   "metadata": {},
   "outputs": [
    {
     "name": "stderr",
     "output_type": "stream",
     "text": [
      "100%|██████████| 4/4 [00:01<00:00,  3.76it/s]\n"
     ]
    }
   ],
   "source": [
    "X = eeg_power_band(mne.concatenate_epochs(X))"
   ]
  },
  {
   "cell_type": "code",
   "execution_count": 16,
   "metadata": {},
   "outputs": [],
   "source": [
    "np.save('data/psd/X.npy', X)\n",
    "np.save('data/psd/y.npy', y)"
   ]
  }
 ],
 "metadata": {
  "kernelspec": {
   "display_name": "Python 3.10.6 ('eeg')",
   "language": "python",
   "name": "python3"
  },
  "language_info": {
   "codemirror_mode": {
    "name": "ipython",
    "version": 3
   },
   "file_extension": ".py",
   "mimetype": "text/x-python",
   "name": "python",
   "nbconvert_exporter": "python",
   "pygments_lexer": "ipython3",
   "version": "3.10.6"
  },
  "orig_nbformat": 4,
  "vscode": {
   "interpreter": {
    "hash": "6c5d414a469e5f94d9b2cc91440f137574f5dee04513972a75d0756fd1e634aa"
   }
  }
 },
 "nbformat": 4,
 "nbformat_minor": 2
}
