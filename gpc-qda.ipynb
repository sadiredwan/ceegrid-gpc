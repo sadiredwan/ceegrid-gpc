{
 "cells": [
  {
   "cell_type": "code",
   "execution_count": 43,
   "metadata": {},
   "outputs": [],
   "source": [
    "import warnings\n",
    "warnings.filterwarnings(\"ignore\")\n",
    "import numpy as np\n",
    "from sklearn.model_selection import KFold\n",
    "from sklearn.model_selection import train_test_split\n",
    "from sklearn.metrics import f1_score, accuracy_score"
   ]
  },
  {
   "cell_type": "code",
   "execution_count": 44,
   "metadata": {},
   "outputs": [],
   "source": [
    "X_csp, X_psd = np.load('data/csp/X.npy'), np.load('data/psd/X.npy')\n",
    "X_csp = X_csp / np.linalg.norm(X_csp)\n",
    "X_psd = X_psd / np.linalg.norm(X_psd)\n",
    "X = np.concatenate((X_csp, X_psd), axis=1)\n",
    "y = np.load('data/psd/y.npy')"
   ]
  },
  {
   "cell_type": "code",
   "execution_count": 45,
   "metadata": {},
   "outputs": [],
   "source": [
    "from sklearn.gaussian_process import GaussianProcessClassifier\n",
    "from sklearn.gaussian_process.kernels import RBF\n",
    "from sklearn.discriminant_analysis import QuadraticDiscriminantAnalysis\n",
    "\n",
    "gpc = GaussianProcessClassifier(2.0 * RBF(1.0))\n",
    "qda = QuadraticDiscriminantAnalysis()"
   ]
  },
  {
   "cell_type": "code",
   "execution_count": 46,
   "metadata": {},
   "outputs": [
    {
     "name": "stdout",
     "output_type": "stream",
     "text": [
      "Accuracy score (GPC): 0.945054945054945\n",
      "Accuracy score (GPC): 0.9413919413919414\n",
      "Accuracy score (GPC): 0.9377289377289377\n",
      "Accuracy score (GPC): 0.967032967032967\n",
      "Accuracy score (GPC): 0.9301470588235294\n"
     ]
    }
   ],
   "source": [
    "kf = KFold(n_splits=5, shuffle=True)\n",
    "\n",
    "for train_index, test_index in kf.split(X):\n",
    "    X_train, X_test = X[train_index], X[test_index]\n",
    "    y_train, y_test = y[train_index], y[test_index]\n",
    "    gpc.fit(X_train, y_train)\n",
    "    y_pred = gpc.predict(X_test)\n",
    "    acc = accuracy_score(y_test, y_pred)\n",
    "    print('Accuracy score (GPC): {}'.format(acc))"
   ]
  },
  {
   "cell_type": "code",
   "execution_count": 47,
   "metadata": {},
   "outputs": [
    {
     "name": "stdout",
     "output_type": "stream",
     "text": [
      "Accuracy score (QDA): 0.9377289377289377\n",
      "Accuracy score (QDA): 0.9523809523809523\n",
      "Accuracy score (QDA): 0.945054945054945\n",
      "Accuracy score (QDA): 0.9523809523809523\n",
      "Accuracy score (QDA): 0.9338235294117647\n"
     ]
    }
   ],
   "source": [
    "kf = KFold(n_splits=5, shuffle=True)\n",
    "\n",
    "for train_index, test_index in kf.split(X):\n",
    "    X_train, X_test = X[train_index], X[test_index]\n",
    "    y_train, y_test = y[train_index], y[test_index]\n",
    "    qda.fit(X_train, y_train)\n",
    "    y_pred = qda.predict(X_test)\n",
    "    acc = accuracy_score(y_test, y_pred)\n",
    "    print('Accuracy score (QDA): {}'.format(acc))"
   ]
  }
 ],
 "metadata": {
  "kernelspec": {
   "display_name": "Python 3.10.6 ('eeg')",
   "language": "python",
   "name": "python3"
  },
  "language_info": {
   "codemirror_mode": {
    "name": "ipython",
    "version": 3
   },
   "file_extension": ".py",
   "mimetype": "text/x-python",
   "name": "python",
   "nbconvert_exporter": "python",
   "pygments_lexer": "ipython3",
   "version": "3.10.6"
  },
  "orig_nbformat": 4,
  "vscode": {
   "interpreter": {
    "hash": "6c5d414a469e5f94d9b2cc91440f137574f5dee04513972a75d0756fd1e634aa"
   }
  }
 },
 "nbformat": 4,
 "nbformat_minor": 2
}
