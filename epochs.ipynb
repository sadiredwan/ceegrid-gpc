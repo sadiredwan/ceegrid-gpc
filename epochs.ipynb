{
 "cells": [
  {
   "cell_type": "code",
   "execution_count": 1,
   "metadata": {},
   "outputs": [],
   "source": [
    "import warnings\n",
    "warnings.filterwarnings(\"ignore\")\n",
    "import mne\n",
    "import os\n",
    "import pandas as pd\n",
    "from tqdm import tqdm\n",
    "mne.set_log_level(40)"
   ]
  },
  {
   "cell_type": "code",
   "execution_count": 2,
   "metadata": {},
   "outputs": [],
   "source": [
    "def make_epochs(raw):\n",
    "    events = mne.events_from_annotations(raw)\n",
    "    filraw = raw.copy().filter(l_freq=0.5, h_freq=100).resample(100)\n",
    "    epochs = mne.make_fixed_length_epochs(filraw, duration=120, preload=True)\n",
    "    return epochs"
   ]
  },
  {
   "cell_type": "code",
   "execution_count": 3,
   "metadata": {},
   "outputs": [
    {
     "name": "stderr",
     "output_type": "stream",
     "text": [
      "100%|██████████| 46/46 [05:32<00:00,  7.23s/it]\n"
     ]
    }
   ],
   "source": [
    "for dir in tqdm(os.listdir('data/ds004015')):\n",
    "    if dir.startswith('sub'):\n",
    "        for f in os.listdir('data/ds004015/'+dir+'/eeg'):\n",
    "            if f.endswith('.set'):\n",
    "                fname = 'data/ds004015/'+dir+'/eeg/'+f\n",
    "                raw = mne.io.read_raw_eeglab(fname, verbose=False, preload=True)\n",
    "                epochs = make_epochs(raw)\n",
    "                epochs.save('data/epochs/'+dir+'.fif')"
   ]
  }
 ],
 "metadata": {
  "kernelspec": {
   "display_name": "Python 3.10.6 ('eeg')",
   "language": "python",
   "name": "python3"
  },
  "language_info": {
   "codemirror_mode": {
    "name": "ipython",
    "version": 3
   },
   "file_extension": ".py",
   "mimetype": "text/x-python",
   "name": "python",
   "nbconvert_exporter": "python",
   "pygments_lexer": "ipython3",
   "version": "3.10.6"
  },
  "orig_nbformat": 4,
  "vscode": {
   "interpreter": {
    "hash": "6c5d414a469e5f94d9b2cc91440f137574f5dee04513972a75d0756fd1e634aa"
   }
  }
 },
 "nbformat": 4,
 "nbformat_minor": 2
}
