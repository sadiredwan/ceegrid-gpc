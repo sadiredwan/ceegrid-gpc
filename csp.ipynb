{
 "cells": [
  {
   "cell_type": "code",
   "execution_count": 1,
   "metadata": {},
   "outputs": [],
   "source": [
    "import warnings\n",
    "warnings.filterwarnings(\"ignore\")\n",
    "import os\n",
    "import mne\n",
    "import numpy as np\n",
    "from tqdm import tqdm\n",
    "import pandas as pd\n",
    "mne.set_log_level(40)"
   ]
  },
  {
   "cell_type": "code",
   "execution_count": 2,
   "metadata": {},
   "outputs": [],
   "source": [
    "df = pd.read_csv('data/participants.tsv', sep='\\t')\n",
    "labels = {'left': 0, 'right': 1}"
   ]
  },
  {
   "cell_type": "code",
   "execution_count": 3,
   "metadata": {},
   "outputs": [
    {
     "name": "stderr",
     "output_type": "stream",
     "text": [
      "100%|██████████| 36/36 [00:04<00:00,  8.26it/s]\n"
     ]
    }
   ],
   "source": [
    "X, y = [], []\n",
    "for f in tqdm(os.listdir('data/epochs')):\n",
    "    epochs = mne.read_epochs('data/epochs/'+f, preload=True)[1:]\n",
    "    for epoch in epochs:\n",
    "        X.append(epoch)\n",
    "        y.append(labels[df[df['participant_id']==f.replace('.fif', '')]['attended_ch'].values[0]])\n",
    "X, y = np.array(X), np.array(y)"
   ]
  },
  {
   "cell_type": "code",
   "execution_count": 4,
   "metadata": {},
   "outputs": [],
   "source": [
    "csp = mne.decoding.CSP(n_components=20, norm_trace=False)"
   ]
  },
  {
   "cell_type": "code",
   "execution_count": 5,
   "metadata": {},
   "outputs": [],
   "source": [
    "X = csp.fit_transform(X, y)"
   ]
  },
  {
   "cell_type": "code",
   "execution_count": 6,
   "metadata": {},
   "outputs": [],
   "source": [
    "np.save('data/csp/X.npy', X)\n",
    "np.save('data/csp/y.npy', y)"
   ]
  }
 ],
 "metadata": {
  "kernelspec": {
   "display_name": "Python 3.10.6 ('eeg')",
   "language": "python",
   "name": "python3"
  },
  "language_info": {
   "codemirror_mode": {
    "name": "ipython",
    "version": 3
   },
   "file_extension": ".py",
   "mimetype": "text/x-python",
   "name": "python",
   "nbconvert_exporter": "python",
   "pygments_lexer": "ipython3",
   "version": "3.10.6"
  },
  "orig_nbformat": 4,
  "vscode": {
   "interpreter": {
    "hash": "6c5d414a469e5f94d9b2cc91440f137574f5dee04513972a75d0756fd1e634aa"
   }
  }
 },
 "nbformat": 4,
 "nbformat_minor": 2
}
